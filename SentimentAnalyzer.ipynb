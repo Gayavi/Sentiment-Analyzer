{
 "cells": [
  {
   "cell_type": "code",
   "execution_count": 1,
   "id": "9ecf086d",
   "metadata": {
    "colab": {
     "base_uri": "https://localhost:8080/"
    },
    "id": "9ecf086d",
    "outputId": "0cfec006-c29c-4ff3-d9fb-b7d5890c3268"
   },
   "outputs": [
    {
     "name": "stderr",
     "output_type": "stream",
     "text": [
      "[nltk_data] Downloading package punkt to\n",
      "[nltk_data]     C:\\Users\\gayav\\AppData\\Roaming\\nltk_data...\n",
      "[nltk_data]   Package punkt is already up-to-date!\n"
     ]
    },
    {
     "data": {
      "text/plain": [
       "True"
      ]
     },
     "execution_count": 1,
     "metadata": {},
     "output_type": "execute_result"
    }
   ],
   "source": [
    "import numpy as np\n",
    "import pandas as pd\n",
    "import nltk\n",
    "from nltk import FreqDist\n",
    "from sklearn.model_selection import train_test_split\n",
    "nltk.download('punkt')"
   ]
  },
  {
   "cell_type": "code",
   "execution_count": 2,
   "id": "cf1a3c31",
   "metadata": {
    "id": "cf1a3c31"
   },
   "outputs": [],
   "source": [
    "def getData():\n",
    "    df = pd.read_csv('DatasetNew.csv')\n",
    "    X_training, X_testing = train_test_split(df, test_size=0.05)  \n",
    "    positives=[]\n",
    "    negatives=[]\n",
    "    for y in range(190):\n",
    "        comment=X_training[\"Comment\"].values[y]\n",
    "        if (X_training[\"Polarity\"].values[y]==\"Positive\"):\n",
    "            positives += [comment]\n",
    "        else:\n",
    "            negatives += [comment]\n",
    "            \n",
    "    testcomments=X_testing[\"Comment\"]\n",
    "    positive = append(positives)\n",
    "    negative = append(negatives) \n",
    "    testdata=append(testcomments)\n",
    "    return positive,negative,testdata"
   ]
  },
  {
   "cell_type": "code",
   "execution_count": 3,
   "id": "23d43d7f",
   "metadata": {
    "id": "23d43d7f"
   },
   "outputs": [],
   "source": [
    "def appendbefore(comments, str):\n",
    "      \n",
    "    str += '{0}'\n",
    "    comments = [str.format(i) for i in comments]\n",
    "    return(comments)"
   ]
  },
  {
   "cell_type": "code",
   "execution_count": 4,
   "id": "2b2d5131",
   "metadata": {},
   "outputs": [],
   "source": [
    "def append(comments):\n",
    "    str1 ='< '\n",
    "    commentsdefore = appendbefore(comments, str1)\n",
    "    str2=' >'\n",
    "    commentlist = [\"{}{}\".format(i,str2) for i in commentsdefore]\n",
    "    return commentlist"
   ]
  },
  {
   "cell_type": "code",
   "execution_count": 5,
   "id": "f36c1832",
   "metadata": {
    "id": "f36c1832"
   },
   "outputs": [],
   "source": [
    "def getngramLists(comments):\n",
    "    unigrams=[]\n",
    "    bigrams=[]\n",
    "    comment=''.join(map(str,comments))\n",
    "    \n",
    "    for line in comment:\n",
    "        commentlist=nltk.word_tokenize(comment)\n",
    "        unigrams=unigrams + list(commentlist)\n",
    "        \n",
    "    bigrams = [(x, i.split()[j + 1]) for i in comments \n",
    "       for j, x in enumerate(i.split()) if j < len(i.split()) - 1]\n",
    "    unigram_list=FreqDist(unigrams)\n",
    "    bigram_list=FreqDist(bigrams)\n",
    "    return unigram_list,bigram_list"
   ]
  },
  {
   "cell_type": "code",
   "execution_count": 6,
   "id": "ca6d7f14",
   "metadata": {
    "id": "ca6d7f14"
   },
   "outputs": [],
   "source": [
    "def calProbability(bigramList,unigramList,testBigrams,vocabulary):\n",
    "    probability=1.00\n",
    "    for i in range(len(testBigrams)):\n",
    "        if testBigrams[i] in bigramList:\n",
    "            bigram_count=bigramList[testBigrams[i]]\n",
    "        else:\n",
    "            bigram_count=0\n",
    "        if testBigrams[i][0] in unigramList:\n",
    "            unigram_count=unigramList[testBigrams[i][0]]\n",
    "        else:\n",
    "            unigram_count=0\n",
    "        probability=probability* ((bigram_count+1)/(unigram_count+vocabulary))\n",
    "    return probability"
   ]
  },
  {
   "cell_type": "code",
   "execution_count": 7,
   "id": "8fd2323d",
   "metadata": {
    "id": "8fd2323d"
   },
   "outputs": [],
   "source": [
    "def getTestNgrams(test2):\n",
    "    bigram=[]\n",
    "    comment=''.join(map(str,test2))\n",
    "    commentlist=nltk.word_tokenize(comment)\n",
    "    bigram=nltk.bigrams(commentlist)\n",
    "    bigramlist=list(bigram)\n",
    "    test_count=len(bigramlist)\n",
    "    return bigramlist,test_count"
   ]
  },
  {
   "cell_type": "code",
   "execution_count": 8,
   "id": "234a0e1b",
   "metadata": {
    "id": "234a0e1b"
   },
   "outputs": [],
   "source": [
    "def getPerplexity(probability,n):\n",
    "    perplexity=pow(probability,(-1/n))\n",
    "    return perplexity"
   ]
  },
  {
   "cell_type": "code",
   "execution_count": 9,
   "id": "2a8f524d",
   "metadata": {
    "colab": {
     "base_uri": "https://localhost:8080/"
    },
    "id": "2a8f524d",
    "outputId": "b7176d1d-e1a2-4ff9-8488-a3c9241697cc",
    "scrolled": true
   },
   "outputs": [
    {
     "name": "stdout",
     "output_type": "stream",
     "text": [
      "< Hora kapu para heththa gewanna ona mewata. essellama un gen ellagaththa nam hodae >\n",
      "A positive Comment and probability is 1.21348620520156e-33\n",
      "Perplexity is 156.4579649547816\n",
      "< Muthu ataya kawa rajapakshala >\n",
      "A negative Comment and probability is 2.5049747232394343e-09\n",
      "Perplexity is 52.50967501383091\n",
      "< Aththa ekai >\n",
      "A positive Comment and probability is 1.7168316284336847e-07\n",
      "Perplexity is 179.92469071835023\n",
      "< Uge konda tibuna nisaane ohoma kale >\n",
      "A negative Comment and probability is 6.778135693079415e-15\n",
      "Perplexity is 105.71268554876355\n",
      "< kollata puduma hithena athi. erata wala President pare giyath samanya deyak ne, me mona iskuruppuda munge kiyala >\n",
      "A negative Comment and probability is 1.0307575913813626e-47\n",
      "Perplexity is 223.5332708105285\n",
      "< Paalakainta therenna newei onakamak na api dakka news wala gowin elawalu pare halala yanawa pau. >\n",
      "A negative Comment and probability is 9.907016459457453e-40\n",
      "Perplexity is 196.95014319762421\n",
      "< Me Peje eke aparada karayo paththatamane katha karanne >\n",
      "A positive Comment and probability is 2.4193002682707403e-17\n",
      "Perplexity is 70.18700194655258\n",
      "< Thawa leda ethine meheta aran enna.okkoma genawata passe okath wahannako ehenam >\n",
      "A negative Comment and probability is 2.1070987973362707e-18\n",
      "Perplexity is 29.718457106251282\n",
      "< Rata venuwen perata ena obalaata apage gaurawaya >\n",
      "A negative Comment and probability is 5.055712578880181e-19\n",
      "Perplexity is 193.65432598365553\n",
      "< Me wage post danna epa >\n",
      "A positive Comment and probability is 1.3383225933734562e-17\n",
      "Perplexity is 648.9927795747044\n"
     ]
    }
   ],
   "source": [
    "if __name__ == '__main__':\n",
    "    \n",
    "    positive_comments,negative_comments,testdata=getData()\n",
    "    posunigram_list,posbigram_list=getngramLists(positive_comments)\n",
    "    negunigram_list,negbigram_list=getngramLists(negative_comments)\n",
    "    \n",
    "    for x in range(len(testdata)):\n",
    "        test_bigrams,test_count=getTestNgrams(testdata[x])\n",
    "        print(testdata[x])\n",
    "        positive_probability=calProbability(posbigram_list,posunigram_list,test_bigrams,test_count)\n",
    "        negative_probability=calProbability(negbigram_list,negunigram_list,test_bigrams,test_count)\n",
    "        if(positive_probability>negative_probability):\n",
    "            print(\"A positive Comment and probability is\",positive_probability)\n",
    "            print(\"Perplexity is\",getPerplexity(positive_probability,test_count))\n",
    "        elif(positive_probability<negative_probability):\n",
    "            print(\"A negative Comment and probability is\",negative_probability)\n",
    "            print(\"Perplexity is\",getPerplexity(negative_probability,test_count))\n",
    "        else:\n",
    "            print(\"Cannot Decide\")\n"
   ]
  }
 ],
 "metadata": {
  "colab": {
   "collapsed_sections": [],
   "name": "174008E - NLP Assignment 01.ipynb",
   "provenance": []
  },
  "kernelspec": {
   "display_name": "Python 3",
   "language": "python",
   "name": "python3"
  },
  "language_info": {
   "codemirror_mode": {
    "name": "ipython",
    "version": 3
   },
   "file_extension": ".py",
   "mimetype": "text/x-python",
   "name": "python",
   "nbconvert_exporter": "python",
   "pygments_lexer": "ipython3",
   "version": "3.8.2"
  }
 },
 "nbformat": 4,
 "nbformat_minor": 5
}
